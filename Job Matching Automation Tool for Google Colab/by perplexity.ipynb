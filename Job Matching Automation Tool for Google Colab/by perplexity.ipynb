{
 "cells": [
  {
   "cell_type": "code",
   "execution_count": null,
   "id": "a87a552e",
   "metadata": {
    "vscode": {
     "languageId": "plaintext"
    }
   },
   "outputs": [],
   "source": [
    "!pip install pandas google-colab scikit-learn PyPDF2 docx fake_useragent requests beautifulsoup4"
   ]
  },
  {
   "cell_type": "code",
   "execution_count": null,
   "id": "960baca8",
   "metadata": {
    "vscode": {
     "languageId": "plaintext"
    }
   },
   "outputs": [],
   "source": [
    "# Install needed packages\n",
    "\n",
    "import pandas as pd\n",
    "from google.colab import drive\n",
    "import requests\n",
    "from bs4 import BeautifulSoup\n",
    "from sklearn.feature_extraction.text import TfidfVectorizer\n",
    "from sklearn.metrics.pairwise import cosine_similarity"
   ]
  },
  {
   "cell_type": "code",
   "execution_count": null,
   "id": "77171a33",
   "metadata": {
    "vscode": {
     "languageId": "plaintext"
    }
   },
   "outputs": [],
   "source": [
    "# Mount Google Drive\n",
    "drive.mount('/content/drive')"
   ]
  },
  {
   "cell_type": "code",
   "execution_count": null,
   "id": "d9cbc0dd",
   "metadata": {
    "vscode": {
     "languageId": "plaintext"
    }
   },
   "outputs": [],
   "source": [
    "# Manual Profile Input - Edit These!\n",
    "profile = {\n",
    "    'skills': ['Python', 'TensorFlow', 'ML', 'ROS'],\n",
    "    'job_titles': ['Data Scientist', 'ML Engineer', 'Robotics Analyst'],\n",
    "    'location': 'Remote, Bangalore, Mumbai',\n",
    "    'experience': 'Entry, 0-2 years'\n",
    "}\n",
    "\n",
    "# Example Stub for Job Fetching (to be elaborated for each portal)\n",
    "def fetch_jobs_from_portal(title, location):\n",
    "    search_url = f\"https://www.indeed.com/jobs?q={title}&l={location}&fromage=1\"\n",
    "    headers = {'User-Agent': 'Mozilla/5.0'}\n",
    "    jobs = []\n",
    "    # Requests + BS4 scrape here, parse listing cards for title, company, location, desc, etc.\n",
    "    # Append dictionaries to jobs\n",
    "    return jobs\n",
    "\n",
    "# Batch search by job titles & locations\n",
    "all_jobs = []\n",
    "for title in profile['job_titles']:\n",
    "    for loc in profile['location'].split(','):\n",
    "        jobs = fetch_jobs_from_portal(title.strip(), loc.strip())\n",
    "        all_jobs.extend(jobs)\n",
    "\n",
    "# Relevance Filtering & Ranking - NLP scoring\n",
    "def score_jobs(jobs, profile_skills):\n",
    "    # Vectorize job desc and input skills\n",
    "    descs = [job['description'] for job in jobs]\n",
    "    vectorizer = TfidfVectorizer().fit(descs + profile_skills)\n",
    "    profile_vec = vectorizer.transform([' '.join(profile_skills)])\n",
    "    scores = []\n",
    "    for job in jobs:\n",
    "        desc_vec = vectorizer.transform([job['description']])\n",
    "        score = cosine_similarity(profile_vec, desc_vec)[0][0]\n",
    "        job['match_score'] = round(score * 100, 2)\n",
    "        scores.append(job)\n",
    "    return sorted(scores, key=lambda x: -x['match_score'])\n",
    "\n",
    "scored_jobs = score_jobs(all_jobs, profile['skills'])\n",
    "jobs_df = pd.DataFrame(scored_jobs)\n",
    "\n",
    "# Write to Google Drive\n",
    "output_path = '/content/drive/MyDrive/JobMatches/job_matches.csv'\n",
    "jobs_df.to_csv(output_path, index=False)\n",
    "\n",
    "print(f\"Jobs saved to {output_path}\")\n"
   ]
  }
 ],
 "metadata": {
  "language_info": {
   "name": "python"
  }
 },
 "nbformat": 4,
 "nbformat_minor": 5
}
