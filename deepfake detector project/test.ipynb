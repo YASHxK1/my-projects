{
 "cells": [
  {
   "cell_type": "code",
   "execution_count": null,
   "id": "4be8dcb6",
   "metadata": {},
   "outputs": [],
   "source": [
    "import tensorflow as tf\n",
    "from tensorflow.keras.preprocessing import image\n",
    "import numpy as np\n",
    "\n",
    "# Load the saved model\n",
    "model = tf.keras.models.load_model('D:\\codes\\ML\\deepfake detector\\MODELdeepfakedetector.h5')\n",
    "\n",
    "# Function to predict if an image is fake or real\n",
    "def predict_image(image_path):\n",
    "    # Load and preprocess the image\n",
    "    img = image.load_img(image_path, target_size=(128, 128))  # Resize to match model input size\n",
    "    img = image.img_to_array(img)\n",
    "    img = img / 255.0  # Normalize the image\n",
    "    img = np.expand_dims(img, axis=0)  # Add batch dimension\n",
    "\n",
    "    # Make prediction\n",
    "    prediction = model.predict(img)\n",
    "    if prediction < 0.5:\n",
    "        return \"Fake\"\n",
    "    else:\n",
    "        return \"Real\"\n",
    "\n",
    "# Path to the image you want to test\n",
    "image_path = \"C:\\Users\\DELL\\Downloads\\Dataset\\Validation\\Fake\\fake_9951.jpg\"\n",
    "# Get the prediction\n",
    "result = predict_image(image_path)\n",
    "print(f\"The image is predicted to be: {result}\")\n"
   ]
  }
 ],
 "metadata": {
  "language_info": {
   "name": "python"
  }
 },
 "nbformat": 4,
 "nbformat_minor": 5
}
